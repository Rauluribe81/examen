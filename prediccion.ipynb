{
 "cells": [
  {
   "cell_type": "markdown",
   "id": "9fb03b64",
   "metadata": {},
   "source": [
    "Parte 1: Análisis Exploratorio de Datos (EDA)"
   ]
  },
  {
   "cell_type": "code",
   "execution_count": 1,
   "id": "a8c9f6fa",
   "metadata": {},
   "outputs": [
    {
     "data": {
      "application/vnd.microsoft.datawrangler.viewer.v0+json": {
       "columns": [
        {
         "name": "index",
         "rawType": "int64",
         "type": "integer"
        },
        {
         "name": "id",
         "rawType": "int64",
         "type": "integer"
        },
        {
         "name": "age",
         "rawType": "float64",
         "type": "float"
        },
        {
         "name": "gender",
         "rawType": "object",
         "type": "string"
        },
        {
         "name": "country",
         "rawType": "object",
         "type": "string"
        },
        {
         "name": "diagnosis_date",
         "rawType": "object",
         "type": "string"
        },
        {
         "name": "cancer_stage",
         "rawType": "object",
         "type": "string"
        },
        {
         "name": "beginning_of_treatment_date",
         "rawType": "object",
         "type": "string"
        },
        {
         "name": "family_history",
         "rawType": "object",
         "type": "string"
        },
        {
         "name": "smoking_status",
         "rawType": "object",
         "type": "string"
        },
        {
         "name": "bmi",
         "rawType": "float64",
         "type": "float"
        },
        {
         "name": "cholesterol_level",
         "rawType": "int64",
         "type": "integer"
        },
        {
         "name": "hypertension",
         "rawType": "int64",
         "type": "integer"
        },
        {
         "name": "asthma",
         "rawType": "int64",
         "type": "integer"
        },
        {
         "name": "cirrhosis",
         "rawType": "int64",
         "type": "integer"
        },
        {
         "name": "other_cancer",
         "rawType": "int64",
         "type": "integer"
        },
        {
         "name": "treatment_type",
         "rawType": "object",
         "type": "string"
        },
        {
         "name": "end_treatment_date",
         "rawType": "object",
         "type": "string"
        },
        {
         "name": "survived",
         "rawType": "int64",
         "type": "integer"
        }
       ],
       "ref": "85111b4d-13b6-4eeb-8267-21a860639f11",
       "rows": [
        [
         "0",
         "1",
         "64.0",
         "Female",
         "Germany",
         "2016-04-07",
         "Stage III",
         "2016-04-21",
         "No",
         "Never Smoked",
         "31.1",
         "257",
         "1",
         "1",
         "0",
         "0",
         "Combined",
         "2017-11-15",
         "0"
        ],
        [
         "1",
         "2",
         "50.0",
         "Male",
         "Czech Republic",
         "2023-04-22",
         "Stage III",
         "2023-05-02",
         "Yes",
         "Passive Smoker",
         "25.9",
         "208",
         "1",
         "0",
         "0",
         "0",
         "Radiation",
         "2024-04-25",
         "0"
        ],
        [
         "2",
         "3",
         "65.0",
         "Male",
         "Romania",
         "2023-04-07",
         "Stage IV",
         "2023-04-12",
         "No",
         "Never Smoked",
         "18.9",
         "193",
         "0",
         "0",
         "0",
         "0",
         "Surgery",
         "2025-03-11",
         "0"
        ],
        [
         "3",
         "4",
         "51.0",
         "Female",
         "Latvia",
         "2016-02-07",
         "Stage III",
         "2016-02-13",
         "Yes",
         "Former Smoker",
         "34.6",
         "249",
         "1",
         "1",
         "1",
         "0",
         "Surgery",
         "2017-04-14",
         "1"
        ],
        [
         "4",
         "5",
         "37.0",
         "Male",
         "Greece",
         "2023-12-01",
         "Stage I",
         "2023-12-03",
         "Yes",
         "Never Smoked",
         "40.2",
         "262",
         "0",
         "0",
         "0",
         "0",
         "Chemotherapy",
         "2024-09-20",
         "0"
        ]
       ],
       "shape": {
        "columns": 18,
        "rows": 5
       }
      },
      "text/html": [
       "<div>\n",
       "<style scoped>\n",
       "    .dataframe tbody tr th:only-of-type {\n",
       "        vertical-align: middle;\n",
       "    }\n",
       "\n",
       "    .dataframe tbody tr th {\n",
       "        vertical-align: top;\n",
       "    }\n",
       "\n",
       "    .dataframe thead th {\n",
       "        text-align: right;\n",
       "    }\n",
       "</style>\n",
       "<table border=\"1\" class=\"dataframe\">\n",
       "  <thead>\n",
       "    <tr style=\"text-align: right;\">\n",
       "      <th></th>\n",
       "      <th>id</th>\n",
       "      <th>age</th>\n",
       "      <th>gender</th>\n",
       "      <th>country</th>\n",
       "      <th>diagnosis_date</th>\n",
       "      <th>cancer_stage</th>\n",
       "      <th>beginning_of_treatment_date</th>\n",
       "      <th>family_history</th>\n",
       "      <th>smoking_status</th>\n",
       "      <th>bmi</th>\n",
       "      <th>cholesterol_level</th>\n",
       "      <th>hypertension</th>\n",
       "      <th>asthma</th>\n",
       "      <th>cirrhosis</th>\n",
       "      <th>other_cancer</th>\n",
       "      <th>treatment_type</th>\n",
       "      <th>end_treatment_date</th>\n",
       "      <th>survived</th>\n",
       "    </tr>\n",
       "  </thead>\n",
       "  <tbody>\n",
       "    <tr>\n",
       "      <th>0</th>\n",
       "      <td>1</td>\n",
       "      <td>64.0</td>\n",
       "      <td>Female</td>\n",
       "      <td>Germany</td>\n",
       "      <td>2016-04-07</td>\n",
       "      <td>Stage III</td>\n",
       "      <td>2016-04-21</td>\n",
       "      <td>No</td>\n",
       "      <td>Never Smoked</td>\n",
       "      <td>31.1</td>\n",
       "      <td>257</td>\n",
       "      <td>1</td>\n",
       "      <td>1</td>\n",
       "      <td>0</td>\n",
       "      <td>0</td>\n",
       "      <td>Combined</td>\n",
       "      <td>2017-11-15</td>\n",
       "      <td>0</td>\n",
       "    </tr>\n",
       "    <tr>\n",
       "      <th>1</th>\n",
       "      <td>2</td>\n",
       "      <td>50.0</td>\n",
       "      <td>Male</td>\n",
       "      <td>Czech Republic</td>\n",
       "      <td>2023-04-22</td>\n",
       "      <td>Stage III</td>\n",
       "      <td>2023-05-02</td>\n",
       "      <td>Yes</td>\n",
       "      <td>Passive Smoker</td>\n",
       "      <td>25.9</td>\n",
       "      <td>208</td>\n",
       "      <td>1</td>\n",
       "      <td>0</td>\n",
       "      <td>0</td>\n",
       "      <td>0</td>\n",
       "      <td>Radiation</td>\n",
       "      <td>2024-04-25</td>\n",
       "      <td>0</td>\n",
       "    </tr>\n",
       "    <tr>\n",
       "      <th>2</th>\n",
       "      <td>3</td>\n",
       "      <td>65.0</td>\n",
       "      <td>Male</td>\n",
       "      <td>Romania</td>\n",
       "      <td>2023-04-07</td>\n",
       "      <td>Stage IV</td>\n",
       "      <td>2023-04-12</td>\n",
       "      <td>No</td>\n",
       "      <td>Never Smoked</td>\n",
       "      <td>18.9</td>\n",
       "      <td>193</td>\n",
       "      <td>0</td>\n",
       "      <td>0</td>\n",
       "      <td>0</td>\n",
       "      <td>0</td>\n",
       "      <td>Surgery</td>\n",
       "      <td>2025-03-11</td>\n",
       "      <td>0</td>\n",
       "    </tr>\n",
       "    <tr>\n",
       "      <th>3</th>\n",
       "      <td>4</td>\n",
       "      <td>51.0</td>\n",
       "      <td>Female</td>\n",
       "      <td>Latvia</td>\n",
       "      <td>2016-02-07</td>\n",
       "      <td>Stage III</td>\n",
       "      <td>2016-02-13</td>\n",
       "      <td>Yes</td>\n",
       "      <td>Former Smoker</td>\n",
       "      <td>34.6</td>\n",
       "      <td>249</td>\n",
       "      <td>1</td>\n",
       "      <td>1</td>\n",
       "      <td>1</td>\n",
       "      <td>0</td>\n",
       "      <td>Surgery</td>\n",
       "      <td>2017-04-14</td>\n",
       "      <td>1</td>\n",
       "    </tr>\n",
       "    <tr>\n",
       "      <th>4</th>\n",
       "      <td>5</td>\n",
       "      <td>37.0</td>\n",
       "      <td>Male</td>\n",
       "      <td>Greece</td>\n",
       "      <td>2023-12-01</td>\n",
       "      <td>Stage I</td>\n",
       "      <td>2023-12-03</td>\n",
       "      <td>Yes</td>\n",
       "      <td>Never Smoked</td>\n",
       "      <td>40.2</td>\n",
       "      <td>262</td>\n",
       "      <td>0</td>\n",
       "      <td>0</td>\n",
       "      <td>0</td>\n",
       "      <td>0</td>\n",
       "      <td>Chemotherapy</td>\n",
       "      <td>2024-09-20</td>\n",
       "      <td>0</td>\n",
       "    </tr>\n",
       "  </tbody>\n",
       "</table>\n",
       "</div>"
      ],
      "text/plain": [
       "   id   age  gender         country diagnosis_date cancer_stage  \\\n",
       "0   1  64.0  Female         Germany     2016-04-07    Stage III   \n",
       "1   2  50.0    Male  Czech Republic     2023-04-22    Stage III   \n",
       "2   3  65.0    Male         Romania     2023-04-07     Stage IV   \n",
       "3   4  51.0  Female          Latvia     2016-02-07    Stage III   \n",
       "4   5  37.0    Male          Greece     2023-12-01      Stage I   \n",
       "\n",
       "  beginning_of_treatment_date family_history  smoking_status   bmi  \\\n",
       "0                  2016-04-21             No    Never Smoked  31.1   \n",
       "1                  2023-05-02            Yes  Passive Smoker  25.9   \n",
       "2                  2023-04-12             No    Never Smoked  18.9   \n",
       "3                  2016-02-13            Yes   Former Smoker  34.6   \n",
       "4                  2023-12-03            Yes    Never Smoked  40.2   \n",
       "\n",
       "   cholesterol_level  hypertension  asthma  cirrhosis  other_cancer  \\\n",
       "0                257             1       1          0             0   \n",
       "1                208             1       0          0             0   \n",
       "2                193             0       0          0             0   \n",
       "3                249             1       1          1             0   \n",
       "4                262             0       0          0             0   \n",
       "\n",
       "  treatment_type end_treatment_date  survived  \n",
       "0       Combined         2017-11-15         0  \n",
       "1      Radiation         2024-04-25         0  \n",
       "2        Surgery         2025-03-11         0  \n",
       "3        Surgery         2017-04-14         1  \n",
       "4   Chemotherapy         2024-09-20         0  "
      ]
     },
     "execution_count": 1,
     "metadata": {},
     "output_type": "execute_result"
    }
   ],
   "source": [
    "import pandas as pd\n",
    "import matplotlib.pyplot as plt\n",
    "import seaborn as sns\n",
    "\n",
    "# Cargar datasets\n",
    "df_train = pd.read_csv(\"C:\\\\Users\\\\usuario\\\\Desktop\\\\mortalidad_cancer\\\\lung_cancer_mortality_data_large_v2.csv\")\n",
    "df_test = pd.read_csv(\"C:\\\\Users\\\\usuario\\\\Desktop\\\\mortalidad_cancer\\\\lung_cancer_mortality_data_test_v2.csv\")\n",
    "\n",
    "# Mostrar las primeras filas\n",
    "df_train.head()\n"
   ]
  },
  {
   "cell_type": "code",
   "execution_count": 2,
   "id": "1f3e1697",
   "metadata": {},
   "outputs": [
    {
     "name": "stdout",
     "output_type": "stream",
     "text": [
      "<class 'pandas.core.frame.DataFrame'>\n",
      "RangeIndex: 3250000 entries, 0 to 3249999\n",
      "Data columns (total 18 columns):\n",
      " #   Column                       Dtype  \n",
      "---  ------                       -----  \n",
      " 0   id                           int64  \n",
      " 1   age                          float64\n",
      " 2   gender                       object \n",
      " 3   country                      object \n",
      " 4   diagnosis_date               object \n",
      " 5   cancer_stage                 object \n",
      " 6   beginning_of_treatment_date  object \n",
      " 7   family_history               object \n",
      " 8   smoking_status               object \n",
      " 9   bmi                          float64\n",
      " 10  cholesterol_level            int64  \n",
      " 11  hypertension                 int64  \n",
      " 12  asthma                       int64  \n",
      " 13  cirrhosis                    int64  \n",
      " 14  other_cancer                 int64  \n",
      " 15  treatment_type               object \n",
      " 16  end_treatment_date           object \n",
      " 17  survived                     int64  \n",
      "dtypes: float64(2), int64(7), object(9)\n",
      "memory usage: 446.3+ MB\n"
     ]
    },
    {
     "data": {
      "application/vnd.microsoft.datawrangler.viewer.v0+json": {
       "columns": [
        {
         "name": "index",
         "rawType": "object",
         "type": "string"
        },
        {
         "name": "id",
         "rawType": "float64",
         "type": "float"
        },
        {
         "name": "age",
         "rawType": "float64",
         "type": "float"
        },
        {
         "name": "gender",
         "rawType": "object",
         "type": "unknown"
        },
        {
         "name": "country",
         "rawType": "object",
         "type": "unknown"
        },
        {
         "name": "diagnosis_date",
         "rawType": "object",
         "type": "unknown"
        },
        {
         "name": "cancer_stage",
         "rawType": "object",
         "type": "unknown"
        },
        {
         "name": "beginning_of_treatment_date",
         "rawType": "object",
         "type": "unknown"
        },
        {
         "name": "family_history",
         "rawType": "object",
         "type": "unknown"
        },
        {
         "name": "smoking_status",
         "rawType": "object",
         "type": "unknown"
        },
        {
         "name": "bmi",
         "rawType": "float64",
         "type": "float"
        },
        {
         "name": "cholesterol_level",
         "rawType": "float64",
         "type": "float"
        },
        {
         "name": "hypertension",
         "rawType": "float64",
         "type": "float"
        },
        {
         "name": "asthma",
         "rawType": "float64",
         "type": "float"
        },
        {
         "name": "cirrhosis",
         "rawType": "float64",
         "type": "float"
        },
        {
         "name": "other_cancer",
         "rawType": "float64",
         "type": "float"
        },
        {
         "name": "treatment_type",
         "rawType": "object",
         "type": "unknown"
        },
        {
         "name": "end_treatment_date",
         "rawType": "object",
         "type": "unknown"
        },
        {
         "name": "survived",
         "rawType": "float64",
         "type": "float"
        }
       ],
       "ref": "f9cd3924-6e3f-486e-9a6b-f4a589637fe5",
       "rows": [
        [
         "count",
         "3250000.0",
         "3250000.0",
         "3250000",
         "3250000",
         "3250000",
         "3250000",
         "3250000",
         "3250000",
         "3250000",
         "3250000.0",
         "3250000.0",
         "3250000.0",
         "3250000.0",
         "3250000.0",
         "3250000.0",
         "3250000",
         "3250000",
         "3250000.0"
        ],
        [
         "unique",
         null,
         null,
         "2",
         "27",
         "3651",
         "4",
         "3680",
         "2",
         "4",
         null,
         null,
         null,
         null,
         null,
         null,
         "4",
         "4196",
         null
        ],
        [
         "top",
         null,
         null,
         "Female",
         "Latvia",
         "2016-08-25",
         "Stage I",
         "2023-01-21",
         "Yes",
         "Passive Smoker",
         null,
         null,
         null,
         null,
         null,
         null,
         "Surgery",
         "2022-05-02",
         null
        ],
        [
         "freq",
         null,
         null,
         "1625490",
         "120947",
         "1021",
         "813501",
         "1000",
         "1625949",
         "814289",
         null,
         null,
         null,
         null,
         null,
         null,
         "813480",
         "988",
         null
        ],
        [
         "mean",
         "1625000.5",
         "54.99969446153846",
         null,
         null,
         null,
         null,
         null,
         null,
         null,
         "30.492760369230762",
         "233.6375846153846",
         "0.7498375384615384",
         "0.468728",
         "0.22658307692307691",
         "0.08802738461538462",
         null,
         null,
         "0.2196006153846154"
        ],
        [
         "std",
         "938194.3317706981",
         "10.001221598016205",
         null,
         null,
         null,
         null,
         null,
         null,
         null,
         "8.371493977542286",
         "43.44851316500957",
         "0.4331065251099213",
         "0.4990211805506822",
         "0.41862063983533443",
         "0.28333476467645824",
         null,
         null,
         "0.41397613196712657"
        ],
        [
         "min",
         "1.0",
         "4.0",
         null,
         null,
         null,
         null,
         null,
         null,
         null,
         "16.0",
         "150.0",
         "0.0",
         "0.0",
         "0.0",
         "0.0",
         null,
         null,
         "0.0"
        ],
        [
         "25%",
         "812500.75",
         "48.0",
         null,
         null,
         null,
         null,
         null,
         null,
         null,
         "23.2",
         "196.0",
         "0.0",
         "0.0",
         "0.0",
         "0.0",
         null,
         null,
         "0.0"
        ],
        [
         "50%",
         "1625000.5",
         "55.0",
         null,
         null,
         null,
         null,
         null,
         null,
         null,
         "30.5",
         "242.0",
         "1.0",
         "0.0",
         "0.0",
         "0.0",
         null,
         null,
         "0.0"
        ],
        [
         "75%",
         "2437500.25",
         "62.0",
         null,
         null,
         null,
         null,
         null,
         null,
         null,
         "37.7",
         "271.0",
         "1.0",
         "1.0",
         "0.0",
         "0.0",
         null,
         null,
         "0.0"
        ],
        [
         "max",
         "3250000.0",
         "104.0",
         null,
         null,
         null,
         null,
         null,
         null,
         null,
         "45.0",
         "300.0",
         "1.0",
         "1.0",
         "1.0",
         "1.0",
         null,
         null,
         "1.0"
        ]
       ],
       "shape": {
        "columns": 18,
        "rows": 11
       }
      },
      "text/html": [
       "<div>\n",
       "<style scoped>\n",
       "    .dataframe tbody tr th:only-of-type {\n",
       "        vertical-align: middle;\n",
       "    }\n",
       "\n",
       "    .dataframe tbody tr th {\n",
       "        vertical-align: top;\n",
       "    }\n",
       "\n",
       "    .dataframe thead th {\n",
       "        text-align: right;\n",
       "    }\n",
       "</style>\n",
       "<table border=\"1\" class=\"dataframe\">\n",
       "  <thead>\n",
       "    <tr style=\"text-align: right;\">\n",
       "      <th></th>\n",
       "      <th>id</th>\n",
       "      <th>age</th>\n",
       "      <th>gender</th>\n",
       "      <th>country</th>\n",
       "      <th>diagnosis_date</th>\n",
       "      <th>cancer_stage</th>\n",
       "      <th>beginning_of_treatment_date</th>\n",
       "      <th>family_history</th>\n",
       "      <th>smoking_status</th>\n",
       "      <th>bmi</th>\n",
       "      <th>cholesterol_level</th>\n",
       "      <th>hypertension</th>\n",
       "      <th>asthma</th>\n",
       "      <th>cirrhosis</th>\n",
       "      <th>other_cancer</th>\n",
       "      <th>treatment_type</th>\n",
       "      <th>end_treatment_date</th>\n",
       "      <th>survived</th>\n",
       "    </tr>\n",
       "  </thead>\n",
       "  <tbody>\n",
       "    <tr>\n",
       "      <th>count</th>\n",
       "      <td>3.250000e+06</td>\n",
       "      <td>3.250000e+06</td>\n",
       "      <td>3250000</td>\n",
       "      <td>3250000</td>\n",
       "      <td>3250000</td>\n",
       "      <td>3250000</td>\n",
       "      <td>3250000</td>\n",
       "      <td>3250000</td>\n",
       "      <td>3250000</td>\n",
       "      <td>3.250000e+06</td>\n",
       "      <td>3.250000e+06</td>\n",
       "      <td>3.250000e+06</td>\n",
       "      <td>3.250000e+06</td>\n",
       "      <td>3.250000e+06</td>\n",
       "      <td>3.250000e+06</td>\n",
       "      <td>3250000</td>\n",
       "      <td>3250000</td>\n",
       "      <td>3.250000e+06</td>\n",
       "    </tr>\n",
       "    <tr>\n",
       "      <th>unique</th>\n",
       "      <td>NaN</td>\n",
       "      <td>NaN</td>\n",
       "      <td>2</td>\n",
       "      <td>27</td>\n",
       "      <td>3651</td>\n",
       "      <td>4</td>\n",
       "      <td>3680</td>\n",
       "      <td>2</td>\n",
       "      <td>4</td>\n",
       "      <td>NaN</td>\n",
       "      <td>NaN</td>\n",
       "      <td>NaN</td>\n",
       "      <td>NaN</td>\n",
       "      <td>NaN</td>\n",
       "      <td>NaN</td>\n",
       "      <td>4</td>\n",
       "      <td>4196</td>\n",
       "      <td>NaN</td>\n",
       "    </tr>\n",
       "    <tr>\n",
       "      <th>top</th>\n",
       "      <td>NaN</td>\n",
       "      <td>NaN</td>\n",
       "      <td>Female</td>\n",
       "      <td>Latvia</td>\n",
       "      <td>2016-08-25</td>\n",
       "      <td>Stage I</td>\n",
       "      <td>2023-01-21</td>\n",
       "      <td>Yes</td>\n",
       "      <td>Passive Smoker</td>\n",
       "      <td>NaN</td>\n",
       "      <td>NaN</td>\n",
       "      <td>NaN</td>\n",
       "      <td>NaN</td>\n",
       "      <td>NaN</td>\n",
       "      <td>NaN</td>\n",
       "      <td>Surgery</td>\n",
       "      <td>2022-05-02</td>\n",
       "      <td>NaN</td>\n",
       "    </tr>\n",
       "    <tr>\n",
       "      <th>freq</th>\n",
       "      <td>NaN</td>\n",
       "      <td>NaN</td>\n",
       "      <td>1625490</td>\n",
       "      <td>120947</td>\n",
       "      <td>1021</td>\n",
       "      <td>813501</td>\n",
       "      <td>1000</td>\n",
       "      <td>1625949</td>\n",
       "      <td>814289</td>\n",
       "      <td>NaN</td>\n",
       "      <td>NaN</td>\n",
       "      <td>NaN</td>\n",
       "      <td>NaN</td>\n",
       "      <td>NaN</td>\n",
       "      <td>NaN</td>\n",
       "      <td>813480</td>\n",
       "      <td>988</td>\n",
       "      <td>NaN</td>\n",
       "    </tr>\n",
       "    <tr>\n",
       "      <th>mean</th>\n",
       "      <td>1.625000e+06</td>\n",
       "      <td>5.499969e+01</td>\n",
       "      <td>NaN</td>\n",
       "      <td>NaN</td>\n",
       "      <td>NaN</td>\n",
       "      <td>NaN</td>\n",
       "      <td>NaN</td>\n",
       "      <td>NaN</td>\n",
       "      <td>NaN</td>\n",
       "      <td>3.049276e+01</td>\n",
       "      <td>2.336376e+02</td>\n",
       "      <td>7.498375e-01</td>\n",
       "      <td>4.687280e-01</td>\n",
       "      <td>2.265831e-01</td>\n",
       "      <td>8.802738e-02</td>\n",
       "      <td>NaN</td>\n",
       "      <td>NaN</td>\n",
       "      <td>2.196006e-01</td>\n",
       "    </tr>\n",
       "    <tr>\n",
       "      <th>std</th>\n",
       "      <td>9.381943e+05</td>\n",
       "      <td>1.000122e+01</td>\n",
       "      <td>NaN</td>\n",
       "      <td>NaN</td>\n",
       "      <td>NaN</td>\n",
       "      <td>NaN</td>\n",
       "      <td>NaN</td>\n",
       "      <td>NaN</td>\n",
       "      <td>NaN</td>\n",
       "      <td>8.371494e+00</td>\n",
       "      <td>4.344851e+01</td>\n",
       "      <td>4.331065e-01</td>\n",
       "      <td>4.990212e-01</td>\n",
       "      <td>4.186206e-01</td>\n",
       "      <td>2.833348e-01</td>\n",
       "      <td>NaN</td>\n",
       "      <td>NaN</td>\n",
       "      <td>4.139761e-01</td>\n",
       "    </tr>\n",
       "    <tr>\n",
       "      <th>min</th>\n",
       "      <td>1.000000e+00</td>\n",
       "      <td>4.000000e+00</td>\n",
       "      <td>NaN</td>\n",
       "      <td>NaN</td>\n",
       "      <td>NaN</td>\n",
       "      <td>NaN</td>\n",
       "      <td>NaN</td>\n",
       "      <td>NaN</td>\n",
       "      <td>NaN</td>\n",
       "      <td>1.600000e+01</td>\n",
       "      <td>1.500000e+02</td>\n",
       "      <td>0.000000e+00</td>\n",
       "      <td>0.000000e+00</td>\n",
       "      <td>0.000000e+00</td>\n",
       "      <td>0.000000e+00</td>\n",
       "      <td>NaN</td>\n",
       "      <td>NaN</td>\n",
       "      <td>0.000000e+00</td>\n",
       "    </tr>\n",
       "    <tr>\n",
       "      <th>25%</th>\n",
       "      <td>8.125008e+05</td>\n",
       "      <td>4.800000e+01</td>\n",
       "      <td>NaN</td>\n",
       "      <td>NaN</td>\n",
       "      <td>NaN</td>\n",
       "      <td>NaN</td>\n",
       "      <td>NaN</td>\n",
       "      <td>NaN</td>\n",
       "      <td>NaN</td>\n",
       "      <td>2.320000e+01</td>\n",
       "      <td>1.960000e+02</td>\n",
       "      <td>0.000000e+00</td>\n",
       "      <td>0.000000e+00</td>\n",
       "      <td>0.000000e+00</td>\n",
       "      <td>0.000000e+00</td>\n",
       "      <td>NaN</td>\n",
       "      <td>NaN</td>\n",
       "      <td>0.000000e+00</td>\n",
       "    </tr>\n",
       "    <tr>\n",
       "      <th>50%</th>\n",
       "      <td>1.625000e+06</td>\n",
       "      <td>5.500000e+01</td>\n",
       "      <td>NaN</td>\n",
       "      <td>NaN</td>\n",
       "      <td>NaN</td>\n",
       "      <td>NaN</td>\n",
       "      <td>NaN</td>\n",
       "      <td>NaN</td>\n",
       "      <td>NaN</td>\n",
       "      <td>3.050000e+01</td>\n",
       "      <td>2.420000e+02</td>\n",
       "      <td>1.000000e+00</td>\n",
       "      <td>0.000000e+00</td>\n",
       "      <td>0.000000e+00</td>\n",
       "      <td>0.000000e+00</td>\n",
       "      <td>NaN</td>\n",
       "      <td>NaN</td>\n",
       "      <td>0.000000e+00</td>\n",
       "    </tr>\n",
       "    <tr>\n",
       "      <th>75%</th>\n",
       "      <td>2.437500e+06</td>\n",
       "      <td>6.200000e+01</td>\n",
       "      <td>NaN</td>\n",
       "      <td>NaN</td>\n",
       "      <td>NaN</td>\n",
       "      <td>NaN</td>\n",
       "      <td>NaN</td>\n",
       "      <td>NaN</td>\n",
       "      <td>NaN</td>\n",
       "      <td>3.770000e+01</td>\n",
       "      <td>2.710000e+02</td>\n",
       "      <td>1.000000e+00</td>\n",
       "      <td>1.000000e+00</td>\n",
       "      <td>0.000000e+00</td>\n",
       "      <td>0.000000e+00</td>\n",
       "      <td>NaN</td>\n",
       "      <td>NaN</td>\n",
       "      <td>0.000000e+00</td>\n",
       "    </tr>\n",
       "    <tr>\n",
       "      <th>max</th>\n",
       "      <td>3.250000e+06</td>\n",
       "      <td>1.040000e+02</td>\n",
       "      <td>NaN</td>\n",
       "      <td>NaN</td>\n",
       "      <td>NaN</td>\n",
       "      <td>NaN</td>\n",
       "      <td>NaN</td>\n",
       "      <td>NaN</td>\n",
       "      <td>NaN</td>\n",
       "      <td>4.500000e+01</td>\n",
       "      <td>3.000000e+02</td>\n",
       "      <td>1.000000e+00</td>\n",
       "      <td>1.000000e+00</td>\n",
       "      <td>1.000000e+00</td>\n",
       "      <td>1.000000e+00</td>\n",
       "      <td>NaN</td>\n",
       "      <td>NaN</td>\n",
       "      <td>1.000000e+00</td>\n",
       "    </tr>\n",
       "  </tbody>\n",
       "</table>\n",
       "</div>"
      ],
      "text/plain": [
       "                  id           age   gender  country diagnosis_date  \\\n",
       "count   3.250000e+06  3.250000e+06  3250000  3250000        3250000   \n",
       "unique           NaN           NaN        2       27           3651   \n",
       "top              NaN           NaN   Female   Latvia     2016-08-25   \n",
       "freq             NaN           NaN  1625490   120947           1021   \n",
       "mean    1.625000e+06  5.499969e+01      NaN      NaN            NaN   \n",
       "std     9.381943e+05  1.000122e+01      NaN      NaN            NaN   \n",
       "min     1.000000e+00  4.000000e+00      NaN      NaN            NaN   \n",
       "25%     8.125008e+05  4.800000e+01      NaN      NaN            NaN   \n",
       "50%     1.625000e+06  5.500000e+01      NaN      NaN            NaN   \n",
       "75%     2.437500e+06  6.200000e+01      NaN      NaN            NaN   \n",
       "max     3.250000e+06  1.040000e+02      NaN      NaN            NaN   \n",
       "\n",
       "       cancer_stage beginning_of_treatment_date family_history  \\\n",
       "count       3250000                     3250000        3250000   \n",
       "unique            4                        3680              2   \n",
       "top         Stage I                  2023-01-21            Yes   \n",
       "freq         813501                        1000        1625949   \n",
       "mean            NaN                         NaN            NaN   \n",
       "std             NaN                         NaN            NaN   \n",
       "min             NaN                         NaN            NaN   \n",
       "25%             NaN                         NaN            NaN   \n",
       "50%             NaN                         NaN            NaN   \n",
       "75%             NaN                         NaN            NaN   \n",
       "max             NaN                         NaN            NaN   \n",
       "\n",
       "        smoking_status           bmi  cholesterol_level  hypertension  \\\n",
       "count          3250000  3.250000e+06       3.250000e+06  3.250000e+06   \n",
       "unique               4           NaN                NaN           NaN   \n",
       "top     Passive Smoker           NaN                NaN           NaN   \n",
       "freq            814289           NaN                NaN           NaN   \n",
       "mean               NaN  3.049276e+01       2.336376e+02  7.498375e-01   \n",
       "std                NaN  8.371494e+00       4.344851e+01  4.331065e-01   \n",
       "min                NaN  1.600000e+01       1.500000e+02  0.000000e+00   \n",
       "25%                NaN  2.320000e+01       1.960000e+02  0.000000e+00   \n",
       "50%                NaN  3.050000e+01       2.420000e+02  1.000000e+00   \n",
       "75%                NaN  3.770000e+01       2.710000e+02  1.000000e+00   \n",
       "max                NaN  4.500000e+01       3.000000e+02  1.000000e+00   \n",
       "\n",
       "              asthma     cirrhosis  other_cancer treatment_type  \\\n",
       "count   3.250000e+06  3.250000e+06  3.250000e+06        3250000   \n",
       "unique           NaN           NaN           NaN              4   \n",
       "top              NaN           NaN           NaN        Surgery   \n",
       "freq             NaN           NaN           NaN         813480   \n",
       "mean    4.687280e-01  2.265831e-01  8.802738e-02            NaN   \n",
       "std     4.990212e-01  4.186206e-01  2.833348e-01            NaN   \n",
       "min     0.000000e+00  0.000000e+00  0.000000e+00            NaN   \n",
       "25%     0.000000e+00  0.000000e+00  0.000000e+00            NaN   \n",
       "50%     0.000000e+00  0.000000e+00  0.000000e+00            NaN   \n",
       "75%     1.000000e+00  0.000000e+00  0.000000e+00            NaN   \n",
       "max     1.000000e+00  1.000000e+00  1.000000e+00            NaN   \n",
       "\n",
       "       end_treatment_date      survived  \n",
       "count             3250000  3.250000e+06  \n",
       "unique               4196           NaN  \n",
       "top            2022-05-02           NaN  \n",
       "freq                  988           NaN  \n",
       "mean                  NaN  2.196006e-01  \n",
       "std                   NaN  4.139761e-01  \n",
       "min                   NaN  0.000000e+00  \n",
       "25%                   NaN  0.000000e+00  \n",
       "50%                   NaN  0.000000e+00  \n",
       "75%                   NaN  0.000000e+00  \n",
       "max                   NaN  1.000000e+00  "
      ]
     },
     "execution_count": 2,
     "metadata": {},
     "output_type": "execute_result"
    }
   ],
   "source": [
    "# Información general\n",
    "df_train.info()\n",
    "\n",
    "# Estadísticas descriptivas\n",
    "df_train.describe(include='all')\n"
   ]
  },
  {
   "cell_type": "markdown",
   "id": "0540aae4",
   "metadata": {},
   "source": [
    "1-¿De qué país o región proviene la mayor cantidad de pacientes?"
   ]
  },
  {
   "cell_type": "code",
   "execution_count": 4,
   "id": "fd7b5ff9",
   "metadata": {},
   "outputs": [
    {
     "data": {
      "application/vnd.microsoft.datawrangler.viewer.v0+json": {
       "columns": [
        {
         "name": "country",
         "rawType": "object",
         "type": "string"
        },
        {
         "name": "count",
         "rawType": "int64",
         "type": "integer"
        }
       ],
       "ref": "5216cd72-85b6-43c0-badc-931957fb6b6e",
       "rows": [
        [
         "Latvia",
         "120947"
        ],
        [
         "Malta",
         "120793"
        ],
        [
         "Cyprus",
         "120792"
        ],
        [
         "Denmark",
         "120708"
        ],
        [
         "Greece",
         "120659"
        ],
        [
         "Italy",
         "120605"
        ],
        [
         "Belgium",
         "120487"
        ],
        [
         "Czech Republic",
         "120478"
        ],
        [
         "Croatia",
         "120473"
        ],
        [
         "Sweden",
         "120431"
        ],
        [
         "Estonia",
         "120388"
        ],
        [
         "Germany",
         "120363"
        ],
        [
         "Finland",
         "120358"
        ],
        [
         "Lithuania",
         "120354"
        ],
        [
         "Spain",
         "120345"
        ],
        [
         "Luxembourg",
         "120300"
        ],
        [
         "Bulgaria",
         "120296"
        ],
        [
         "Poland",
         "120294"
        ],
        [
         "Romania",
         "120277"
        ],
        [
         "Austria",
         "120252"
        ],
        [
         "Slovakia",
         "120233"
        ],
        [
         "Netherlands",
         "120218"
        ],
        [
         "Ireland",
         "120205"
        ],
        [
         "France",
         "120180"
        ],
        [
         "Hungary",
         "120120"
        ],
        [
         "Portugal",
         "119807"
        ],
        [
         "Slovenia",
         "119637"
        ]
       ],
       "shape": {
        "columns": 1,
        "rows": 27
       }
      },
      "text/plain": [
       "country\n",
       "Latvia            120947\n",
       "Malta             120793\n",
       "Cyprus            120792\n",
       "Denmark           120708\n",
       "Greece            120659\n",
       "Italy             120605\n",
       "Belgium           120487\n",
       "Czech Republic    120478\n",
       "Croatia           120473\n",
       "Sweden            120431\n",
       "Estonia           120388\n",
       "Germany           120363\n",
       "Finland           120358\n",
       "Lithuania         120354\n",
       "Spain             120345\n",
       "Luxembourg        120300\n",
       "Bulgaria          120296\n",
       "Poland            120294\n",
       "Romania           120277\n",
       "Austria           120252\n",
       "Slovakia          120233\n",
       "Netherlands       120218\n",
       "Ireland           120205\n",
       "France            120180\n",
       "Hungary           120120\n",
       "Portugal          119807\n",
       "Slovenia          119637\n",
       "Name: count, dtype: int64"
      ]
     },
     "execution_count": 4,
     "metadata": {},
     "output_type": "execute_result"
    }
   ],
   "source": [
    "df_train['country'].value_counts()\n"
   ]
  },
  {
   "cell_type": "markdown",
   "id": "9b19535d",
   "metadata": {},
   "source": [
    "2-¿Cuantos pacientes sobrevivieron y cuántos no?"
   ]
  },
  {
   "cell_type": "code",
   "execution_count": 7,
   "id": "24356aa7",
   "metadata": {},
   "outputs": [
    {
     "data": {
      "application/vnd.microsoft.datawrangler.viewer.v0+json": {
       "columns": [
        {
         "name": "country",
         "rawType": "object",
         "type": "string"
        },
        {
         "name": "survived",
         "rawType": "float64",
         "type": "float"
        }
       ],
       "ref": "3f094519-56b2-436a-8613-6c0bbea23b49",
       "rows": [
        [
         "Austria",
         "0.2226823670292386"
        ],
        [
         "Bulgaria",
         "0.22139555762452617"
        ],
        [
         "Latvia",
         "0.22110511215656445"
        ],
        [
         "Cyprus",
         "0.22106596463341943"
        ],
        [
         "Hungary",
         "0.2204129204129204"
        ],
        [
         "Ireland",
         "0.22032361382637994"
        ],
        [
         "Czech Republic",
         "0.22016467736848222"
        ],
        [
         "Denmark",
         "0.22015939291513403"
        ],
        [
         "Finland",
         "0.21999368550491036"
        ],
        [
         "Romania",
         "0.21992567157478154"
        ],
        [
         "Luxembourg",
         "0.2199168744804655"
        ],
        [
         "Netherlands",
         "0.21982565006904123"
        ],
        [
         "Belgium",
         "0.219401263206819"
        ],
        [
         "Spain",
         "0.2193277660060659"
        ],
        [
         "Sweden",
         "0.21924587523146033"
        ],
        [
         "Slovenia",
         "0.21923819554151308"
        ],
        [
         "Germany",
         "0.21912049383946894"
        ],
        [
         "Poland",
         "0.21898847822834056"
        ],
        [
         "Slovakia",
         "0.21896650669949183"
        ],
        [
         "Estonia",
         "0.2188839419211217"
        ],
        [
         "Lithuania",
         "0.21880452664639313"
        ],
        [
         "France",
         "0.21878016308870027"
        ],
        [
         "Italy",
         "0.2187471497864931"
        ],
        [
         "Greece",
         "0.21850835826585668"
        ],
        [
         "Malta",
         "0.21813350111347513"
        ],
        [
         "Portugal",
         "0.2181258190255995"
        ],
        [
         "Croatia",
         "0.21796585126957907"
        ]
       ],
       "shape": {
        "columns": 1,
        "rows": 27
       }
      },
      "text/plain": [
       "country\n",
       "Austria           0.222682\n",
       "Bulgaria          0.221396\n",
       "Latvia            0.221105\n",
       "Cyprus            0.221066\n",
       "Hungary           0.220413\n",
       "Ireland           0.220324\n",
       "Czech Republic    0.220165\n",
       "Denmark           0.220159\n",
       "Finland           0.219994\n",
       "Romania           0.219926\n",
       "Luxembourg        0.219917\n",
       "Netherlands       0.219826\n",
       "Belgium           0.219401\n",
       "Spain             0.219328\n",
       "Sweden            0.219246\n",
       "Slovenia          0.219238\n",
       "Germany           0.219120\n",
       "Poland            0.218988\n",
       "Slovakia          0.218967\n",
       "Estonia           0.218884\n",
       "Lithuania         0.218805\n",
       "France            0.218780\n",
       "Italy             0.218747\n",
       "Greece            0.218508\n",
       "Malta             0.218134\n",
       "Portugal          0.218126\n",
       "Croatia           0.217966\n",
       "Name: survived, dtype: float64"
      ]
     },
     "execution_count": 7,
     "metadata": {},
     "output_type": "execute_result"
    }
   ],
   "source": [
    "df_train.groupby('country')['survived'].mean().sort_values(ascending=False)\n"
   ]
  },
  {
   "cell_type": "markdown",
   "id": "9d41b4e3",
   "metadata": {},
   "source": [
    "3-¿Cuál es la edad promedio de las personas que sobrevivieron y las que no?"
   ]
  },
  {
   "cell_type": "code",
   "execution_count": 9,
   "id": "f8258fa9",
   "metadata": {},
   "outputs": [
    {
     "data": {
      "application/vnd.microsoft.datawrangler.viewer.v0+json": {
       "columns": [
        {
         "name": "survived",
         "rawType": "int64",
         "type": "integer"
        },
        {
         "name": "age",
         "rawType": "float64",
         "type": "float"
        }
       ],
       "ref": "76991e69-c978-4cce-a57e-6f536ca22ebe",
       "rows": [
        [
         "0",
         "54.993238570546524"
        ],
        [
         "1",
         "55.022636898873756"
        ]
       ],
       "shape": {
        "columns": 1,
        "rows": 2
       }
      },
      "text/plain": [
       "survived\n",
       "0    54.993239\n",
       "1    55.022637\n",
       "Name: age, dtype: float64"
      ]
     },
     "execution_count": 9,
     "metadata": {},
     "output_type": "execute_result"
    }
   ],
   "source": [
    "df_train.groupby('survived')['age'].mean()\n"
   ]
  },
  {
   "cell_type": "markdown",
   "id": "7d21a499",
   "metadata": {},
   "source": [
    "4-¿Qué tipo de cáncer tiene mayor tasa de supervivencia?"
   ]
  },
  {
   "cell_type": "code",
   "execution_count": 11,
   "id": "533b39ab",
   "metadata": {},
   "outputs": [
    {
     "data": {
      "application/vnd.microsoft.datawrangler.viewer.v0+json": {
       "columns": [
        {
         "name": "other_cancer",
         "rawType": "int64",
         "type": "integer"
        },
        {
         "name": "survived",
         "rawType": "float64",
         "type": "float"
        }
       ],
       "ref": "007734a9-175c-4991-9c15-c1d82d671afd",
       "rows": [
        [
         "0",
         "0.21976368386230222"
        ],
        [
         "1",
         "0.2179112094488079"
        ]
       ],
       "shape": {
        "columns": 1,
        "rows": 2
       }
      },
      "text/plain": [
       "other_cancer\n",
       "0    0.219764\n",
       "1    0.217911\n",
       "Name: survived, dtype: float64"
      ]
     },
     "execution_count": 11,
     "metadata": {},
     "output_type": "execute_result"
    }
   ],
   "source": [
    "# Supervivencia promedio según si tiene otro cáncer\n",
    "df_train.groupby('other_cancer')['survived'].mean()\n"
   ]
  },
  {
   "cell_type": "markdown",
   "id": "4f873610",
   "metadata": {},
   "source": [
    " 6-¿Qué variable afecta más a la supervivencia?"
   ]
  },
  {
   "cell_type": "code",
   "execution_count": 13,
   "id": "ca216a90",
   "metadata": {},
   "outputs": [
    {
     "data": {
      "application/vnd.microsoft.datawrangler.viewer.v0+json": {
       "columns": [
        {
         "name": "index",
         "rawType": "object",
         "type": "string"
        },
        {
         "name": "survived",
         "rawType": "float64",
         "type": "float"
        }
       ],
       "ref": "991dc96a-cbbe-4ef6-bfb3-b4f6d873179f",
       "rows": [
        [
         "survived",
         "1.0"
        ],
        [
         "age",
         "0.0012168719718823014"
        ],
        [
         "hypertension",
         "0.001099085251378909"
        ],
        [
         "cholesterol_level",
         "0.000908513280519386"
        ],
        [
         "bmi",
         "0.0001500408512063273"
        ],
        [
         "id",
         "8.487904843943299e-05"
        ],
        [
         "asthma",
         "-6.719013049779745e-05"
        ],
        [
         "cirrhosis",
         "-0.000218022896078638"
        ],
        [
         "other_cancer",
         "-0.001267875999329926"
        ]
       ],
       "shape": {
        "columns": 1,
        "rows": 9
       }
      },
      "text/plain": [
       "survived             1.000000\n",
       "age                  0.001217\n",
       "hypertension         0.001099\n",
       "cholesterol_level    0.000909\n",
       "bmi                  0.000150\n",
       "id                   0.000085\n",
       "asthma              -0.000067\n",
       "cirrhosis           -0.000218\n",
       "other_cancer        -0.001268\n",
       "Name: survived, dtype: float64"
      ]
     },
     "execution_count": 13,
     "metadata": {},
     "output_type": "execute_result"
    }
   ],
   "source": [
    "# Seleccionamos solo columnas numéricas\n",
    "numeric_cols = df_train.select_dtypes(include='number')\n",
    "\n",
    "# Calculamos correlación solo con numéricas\n",
    "correlation = numeric_cols.corr()\n",
    "\n",
    "# Mostramos las correlaciones con la variable 'survived'\n",
    "correlation['survived'].sort_values(ascending=False)\n",
    "\n"
   ]
  },
  {
   "cell_type": "markdown",
   "id": "2a918a87",
   "metadata": {},
   "source": [
    "Grafico correlaciones de variables supervivencia:"
   ]
  },
  {
   "cell_type": "code",
   "execution_count": 14,
   "id": "1941f8a4",
   "metadata": {},
   "outputs": [
    {
     "data": {
      "image/png": "[encoded data removed]",
      "text/plain": [
       "<Figure size 1000x600 with 2 Axes>"
      ]
     },
     "metadata": {},
     "output_type": "display_data"
    }
   ],
   "source": [
    "# Mapa de calor\n",
    "plt.figure(figsize=(10, 6))\n",
    "sns.heatmap(correlation, annot=True, cmap='coolwarm')\n",
    "plt.title('Correlaciones con la variable \"survived\"')\n",
    "plt.show()\n"
   ]
  },
  {
   "cell_type": "markdown",
   "id": "e4e6877f",
   "metadata": {},
   "source": [
    "\n",
    " Parte 2: Prepocesamiento de datos"
   ]
  },
  {
   "cell_type": "code",
   "execution_count": 15,
   "id": "b13375bd",
   "metadata": {},
   "outputs": [],
   "source": [
    "# Verificar valores nulos\n",
    "df_train.isnull().sum()\n",
    "df_test.isnull().sum()\n",
    "\n",
    "# Eliminar nulos (o puedes imputar si prefieres)\n",
    "df_train.dropna(inplace=True)\n",
    "df_test.dropna(inplace=True)\n"
   ]
  },
  {
   "cell_type": "markdown",
   "id": "e5851191",
   "metadata": {},
   "source": [
    "Variables categoricas:"
   ]
  },
  {
   "cell_type": "code",
   "execution_count": 16,
   "id": "b6b3a2ad",
   "metadata": {},
   "outputs": [],
   "source": [
    "# Verificar columnas categóricas (solo 'treatment_type' parece serlo)\n",
    "df_train = pd.get_dummies(df_train, columns=['treatment_type'], drop_first=True)\n",
    "df_test = pd.get_dummies(df_test, columns=['treatment_type'], drop_first=True)\n",
    "\n",
    "# Alinear columnas entre train y test\n",
    "df_test = df_test.reindex(columns=df_train.columns, fill_value=0)\n"
   ]
  },
  {
   "cell_type": "code",
   "execution_count": 17,
   "id": "a737af12",
   "metadata": {},
   "outputs": [],
   "source": [
    "X = df_train.drop(['survived', 'end_treatment_date'], axis=1)  # eliminamos también fecha si no es útil\n",
    "y = df_train['survived']\n"
   ]
  },
  {
   "cell_type": "markdown",
   "id": "8191d963",
   "metadata": {},
   "source": [
    "Parte 3: Predicción y Evaluación del Modelo:"
   ]
  },
  {
   "cell_type": "markdown",
   "id": "38102a26",
   "metadata": {},
   "source": [
    "Random Forest:"
   ]
  },
  {
   "cell_type": "code",
   "execution_count": 27,
   "id": "cfa13041",
   "metadata": {},
   "outputs": [
    {
     "name": "stdout",
     "output_type": "stream",
     "text": [
      "🔍 Classification Report:\n",
      "               precision    recall  f1-score   support\n",
      "\n",
      "           0       1.00      0.80      0.89         5\n",
      "           1       0.50      1.00      0.67         1\n",
      "\n",
      "    accuracy                           0.83         6\n",
      "   macro avg       0.75      0.90      0.78         6\n",
      "weighted avg       0.92      0.83      0.85         6\n",
      "\n",
      "✅ Accuracy: 0.8333333333333334\n"
     ]
    },
    {
     "data": {
      "image/png": "[encoded data removed]",
      "text/plain": [
       "<Figure size 600x400 with 2 Axes>"
      ]
     },
     "metadata": {},
     "output_type": "display_data"
    }
   ],
   "source": [
    "# IMPORTACIONES\n",
    "from sklearn.ensemble import RandomForestClassifier\n",
    "from sklearn.model_selection import train_test_split\n",
    "from sklearn.metrics import classification_report, confusion_matrix, accuracy_score\n",
    "import seaborn as sns\n",
    "import matplotlib.pyplot as plt\n",
    "\n",
    "# 1. SELECCIÓN DE SOLO LAS PRIMERAS 20 FILAS\n",
    "df_small = df_train.head(20)\n",
    "\n",
    "# 2. PREPARACIÓN DE DATOS\n",
    "X = df_small.drop(columns=['survived', 'end_treatment_date'], errors='ignore')\n",
    "X = X.select_dtypes(include='number')  # solo columnas numéricas\n",
    "y = df_small['survived']\n",
    "\n",
    "# 3. DIVISIÓN (usamos test_size=0.3 porque con 20 filas un 20% sería muy poco)\n",
    "X_train, X_val, y_train, y_val = train_test_split(X, y, test_size=0.3, random_state=42)\n",
    "\n",
    "# 4. ENTRENAMIENTO\n",
    "clf = RandomForestClassifier(random_state=42)\n",
    "clf.fit(X_train, y_train)\n",
    "\n",
    "# 5. PREDICCIONES\n",
    "y_pred = clf.predict(X_val)\n",
    "\n",
    "# 6. EVALUACIÓN\n",
    "print(\"🔍 Classification Report:\\n\", classification_report(y_val, y_pred, zero_division=0))\n",
    "print(\"✅ Accuracy:\", accuracy_score(y_val, y_pred))\n",
    "\n",
    "# 7. MATRIZ DE CONFUSIÓN\n",
    "conf_matrix = confusion_matrix(y_val, y_pred)\n",
    "\n",
    "plt.figure(figsize=(6, 4))\n",
    "sns.heatmap(conf_matrix, annot=True, fmt='d', cmap='Blues')\n",
    "plt.xlabel('Predicho')\n",
    "plt.ylabel('Real')\n",
    "plt.title('Matriz de Confusión')\n",
    "plt.show()\n"
   ]
  },
  {
   "cell_type": "markdown",
   "id": "5c9aac48",
   "metadata": {},
   "source": [
    "✅ Conclusiones del modelo Random Forest con 20 filas\n",
    "Muestra pequeña: El modelo fue entrenado con solo 20 registros, lo que limita su capacidad predictiva y puede generar resultados poco generalizables. Es ideal solo para pruebas o entrenamiento inicial.\n",
    "\n",
    "Precisión baja/media esperada: Con tan pocos datos, el modelo puede sobreajustarse a patrones específicos del pequeño conjunto de entrenamiento y no generalizar bien al conjunto de validación.\n",
    "\n",
    "Importancia de más datos: Para una predicción fiable sobre la supervivencia de pacientes, se recomienda entrenar el modelo con todo el dataset disponible o al menos un subconjunto representativo más amplio.\n",
    "\n",
    "Utilidad del modelo: A pesar de sus limitaciones, Random Forest es útil para identificar relaciones no lineales y evaluar la importancia de las variables predictoras en problemas de clasificación médica.\n",
    "\n",
    "Matriz de confusión: Permite visualizar los aciertos y errores del modelo, destacando si se equivoca más en falsos positivos o falsos negativos, algo crucial en contexto de salud.\n",
    "\n"
   ]
  }
 ],
 "metadata": {
  "kernelspec": {
   "display_name": "Python 3",
   "language": "python",
   "name": "python3"
  },
  "language_info": {
   "codemirror_mode": {
    "name": "ipython",
    "version": 3
   },
   "file_extension": ".py",
   "mimetype": "text/x-python",
   "name": "python",
   "nbconvert_exporter": "python",
   "pygments_lexer": "ipython3",
   "version": "3.10.11"
  }
 },
 "nbformat": 4,
 "nbformat_minor": 5
}
